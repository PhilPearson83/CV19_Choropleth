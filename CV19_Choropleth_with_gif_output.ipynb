{
 "cells": [
  {
   "cell_type": "markdown",
   "metadata": {},
   "source": [
    "# Making a Covid-19 choropleth with Python and Folium\n",
    "\n",
    "While undertaking a geospatial analysis project I had the need to quickly create some choropleth maps overlayed to some other raster and vector layers\n",
    "\n",
    "From Wikipedia: A choropleth map is a thematic map in which areas are shaded or patterned in proportion to the measurement of the statistical variable being displayed on the map, such as population density or per-capita income. Choropleth maps provide an easy way to visualize how a measurement varies across a geographic area or show the level of variability within a region. A heat map is similar but does not use geographic boundaries\n",
    "\n",
    "Let's start importing libraries we need:"
   ]
  },
  {
   "cell_type": "code",
   "execution_count": null,
   "metadata": {},
   "outputs": [],
   "source": [
    "import time\n",
    "import pandas as pd\n",
    "import geopandas as gpd\n",
    "import numpy as np\n",
    "import branca as bc\n",
    "from pyproj import Transformer\n",
    "import folium\n",
    "from folium.features import DivIcon\n",
    "import glob, os\n",
    "import imageio\n",
    "import webbrowser\n",
    "from webdriver_manager.chrome import ChromeDriverManager\n",
    "from selenium import webdriver\n",
    "from isoweek import Week"
   ]
  },
  {
   "cell_type": "markdown",
   "metadata": {},
   "source": [
    "Let's assign a working directory and create a images folder if one doesn't exist"
   ]
  },
  {
   "cell_type": "code",
   "execution_count": null,
   "metadata": {},
   "outputs": [],
   "source": [
    "dir_path = os.getcwd()\n",
    "if not os.path.exists('images'):\n",
    "    os.makedirs('images')\n",
    "image_path = dir_path + '\\\\images\\\\'"
   ]
  },
  {
   "cell_type": "markdown",
   "metadata": {},
   "source": [
    "To create a choropleth we basically need 2 things:\n",
    "\n",
    "* a geoJSON file that describes our geographical features, in this example the MSOA boundaries.\n",
    "\n",
    "* the values to be displayed (as different colours) on the map\n",
    "\n",
    "The first step is to import a shapefile via geopandas. Geopandas will create a geodataframe and then comvert it to json so that it can be passed to Folium"
   ]
  },
  {
   "cell_type": "code",
   "execution_count": null,
   "metadata": {},
   "outputs": [],
   "source": [
    "# read msoa boundary into dataframe and transform to WGS84\n",
    "msoa = gpd.read_file(dir_path + \"/data/geospatial/MSOAs.shp\")\n",
    "msoa = msoa.to_crs(epsg=4326)\n",
    "# remove boundaries not in DSFRS service area and convert dataframe to json\n",
    "msoa = msoa[~msoa[\"msoa11nm\"].str.contains(r'Bath(?!$)') & ~msoa['msoa11nm'].str.contains(r'Wilts(?!$)') & ~msoa['msoa11nm'].str.contains(r'Corn(?!$)') & ~msoa['msoa11nm'].str.contains(r'(?!$)Dors(?!$)') & ~msoa['msoa11nm'].str.contains(r'Corn(?!$)') & ~msoa['msoa11nm'].str.contains(r'Corn(?!$)') & ~msoa['msoa11nm'].str.contains(r'(?!$)Dors(?!$)') & ~msoa['msoa11nm'].str.contains(r'North Somer(?!$)')]\n",
    "msoa_list = msoa['msoa11cd'].tolist()\n",
    "msoa_json = msoa.to_json()"
   ]
  },
  {
   "cell_type": "markdown",
   "metadata": {},
   "source": [
    "The second step is to import the weekly csv file from the .Gov website. We can read it into a pandas dataframe and manipulate to get an output for Folium. In this case we will want a dataframe with each weeks data to generate a gif at the very end."
   ]
  },
  {
   "cell_type": "code",
   "execution_count": null,
   "metadata": {},
   "outputs": [],
   "source": [
    "df = pd.read_csv(r'https://coronavirus.data.gov.uk/downloads/msoa_data/MSOAs_latest.csv')\n",
    "# drop redundant columns\n",
    "df = df.drop(['areaName','newCasesBySpecimenDateRollingRate'], axis = 1)\n",
    "# rename dataframe columns\n",
    "df.columns = ['msoa11cd', 'date', 'newCasesBySpecimenDateRollingSum']\n",
    "# filter only the MSOAs we want (from the boundary layer)\n",
    "df = df[df['msoa11cd'].isin(msoa_list)]\n",
    "# remove zeros and -99 values otherwise the choropleth will try and colour them\n",
    "df['newCasesBySpecimenDateRollingSum'] = df['newCasesBySpecimenDateRollingSum'].replace({0:np.nan, -99:np.nan})\n",
    "# create a mask to split weekly data from the most recent\n",
    "mask = df['date'] == df[\"date\"].max()\n",
    "last_7_days = df[mask]\n",
    "weekly = df\n",
    "#weekly = df[~mask]\n",
    "# create a list of dates from the dataframe\n",
    "listofweeks = list(last_7_days['date'].map(lambda x: str(x)).unique())\n",
    "listofweeks.sort()"
   ]
  },
  {
   "cell_type": "markdown",
   "metadata": {},
   "source": [
    "Lets grab some data to sdd some additional layers like the service area and list of fire stations"
   ]
  },
  {
   "cell_type": "code",
   "execution_count": null,
   "metadata": {},
   "outputs": [],
   "source": [
    "# read station csv into dataframe\n",
    "df = pd.read_csv((dir_path + \"/data/dsfrs_stations.csv\"))\n",
    "# convert x/y columns to number from text\n",
    "df[[\"EASTING\", \"NORTHING\"]] = df[[\"EASTING\", \"NORTHING\"]].apply(pd.to_numeric)"
   ]
  },
  {
   "cell_type": "code",
   "execution_count": null,
   "metadata": {},
   "outputs": [],
   "source": [
    "# create a function to convert x/y from OSGB36 to WGS84\n",
    "def vectorized_convert(df):\n",
    "    transformer = Transformer.from_crs(\"epsg:27700\", \"epsg:4326\")\n",
    "    converted = transformer.transform(df['EASTING'].tolist(), df['NORTHING'].tolist())\n",
    "    df['lat'] = converted[1]\n",
    "    df['lon'] = converted[0]\n",
    "    return df\n",
    "vec = vectorized_convert(df)\n",
    "vec = gpd.GeoDataFrame(vec, geometry=gpd.points_from_xy(vec['lat'], vec['lon']),crs=\"EPSG:4326\")"
   ]
  },
  {
   "cell_type": "code",
   "execution_count": null,
   "metadata": {},
   "outputs": [],
   "source": [
    "# read service boundary into dataframe and transform to WGS84\n",
    "service_area = gpd.read_file(dir_path + \"/data/geospatial/DSFRS_Service_Area.shp\")\n",
    "service_area = service_area.to_crs(epsg=4326)"
   ]
  },
  {
   "cell_type": "markdown",
   "metadata": {},
   "source": [
    "Add some additional functions to add a custom legend to Folium"
   ]
  },
  {
   "cell_type": "code",
   "execution_count": null,
   "metadata": {},
   "outputs": [],
   "source": [
    "def modify_HeaderLegend(map_folium):    \n",
    "    \"\"\"\n",
    "    \"\"\"\n",
    "    # Header to Add\n",
    "    head = \"\"\"\n",
    "    {% macro header(this, kwargs) %}\n",
    "    <style>\n",
    "    .leaflet-right {\n",
    "      float: left !important;\n",
    "    }\n",
    "    </style>\n",
    "    <link rel=\"stylesheet\" href=\"https://cdn.jsdelivr.net/npm/leaflet@1.6.0/dist/leaflet.css\">\n",
    "    <script src=\"https://code.jquery.com/ui/1.12.1/jquery-ui.js\"></script>\n",
    "    <script>$( function() {\n",
    "        $( \".maplegend\" ).draggable({\n",
    "            start: function (event, ui) {\n",
    "                $(this).css({\n",
    "                    right: \"auto\",\n",
    "                    top: \"auto\",\n",
    "                    bottom: \"auto\"\n",
    "                });\n",
    "            }\n",
    "        });\n",
    "    });\n",
    "    </script>\n",
    "    {% endmacro %}\n",
    "    \"\"\"\n",
    "    \n",
    "    # Add Header\n",
    "    macro = bc.element.MacroElement()\n",
    "    macro._template = bc.element.Template(head)\n",
    "    map_folium.get_root().add_child(macro)\n",
    "    \n",
    "    \n",
    "    # CSS to Add (on Header)\n",
    "    css = \"\"\"\n",
    "    {% macro header(this, kwargs) %}\n",
    "    <style type='text/css'>\n",
    "      .maplegend {\n",
    "        position: absolute;\n",
    "        z-index:9999;\n",
    "        background-color: rgba(255, 255, 255, 1);\n",
    "        border-radius: 5px;\n",
    "        border: 2px solid #bbb;\n",
    "        padding: 10px;\n",
    "        font-size:12px;\n",
    "        right: 10px;\n",
    "        bottom: 20px;\n",
    "      }\n",
    "      .maplegend .legend-title {\n",
    "        text-align: left;\n",
    "        margin-bottom: 5px;\n",
    "        font-weight: bold;\n",
    "        font-size: 90%;\n",
    "        }\n",
    "      .maplegend .legend-scale ul {\n",
    "        margin: 0;\n",
    "        margin-bottom: 0px;\n",
    "        padding: 0;\n",
    "        float: left;\n",
    "        list-style: none;\n",
    "        }\n",
    "      .maplegend .legend-scale ul li {\n",
    "        font-size: 80%;\n",
    "        list-style: none;\n",
    "        margin-left: 0;\n",
    "        line-height: 18px;\n",
    "        margin-bottom: 2px;\n",
    "        }\n",
    "      .maplegend ul.legend-labels li span {\n",
    "        display: block;\n",
    "        float: left;\n",
    "        height: 16px;\n",
    "        width: 30px;\n",
    "        margin-right: 5px;\n",
    "        margin-left: 0;\n",
    "        border: 0px solid #ccc;\n",
    "        }    \n",
    "      .maplegend .legend-source {\n",
    "        font-size: 80%;\n",
    "        color: #777;\n",
    "        clear: both;\n",
    "        }\n",
    "      .maplegend a {\n",
    "        color: #777;\n",
    "        }\n",
    "      .leaflet-right {\n",
    "        right: inherit;\n",
    "        }\n",
    "    </style>\n",
    "    {% endmacro %}\n",
    "    \"\"\"\n",
    "    \n",
    "    # Add CSS (on Header)\n",
    "    macro = bc.element.MacroElement()\n",
    "    macro._template = bc.element.Template(css)\n",
    "    map_folium.get_root().add_child(macro)    \n",
    "\n",
    "    return map_folium"
   ]
  },
  {
   "cell_type": "code",
   "execution_count": null,
   "metadata": {},
   "outputs": [],
   "source": [
    "def add_CategoricalLegend(map_folium, title, color_by_label):\n",
    "    \"\"\"\n",
    "    \"\"\"\n",
    "    body = f\"\"\"\n",
    "    <div id='maplegend {title}' class='maplegend'>\n",
    "        <div class='legend-title'>{title}</div>\n",
    "        <div class='legend-scale'>\n",
    "            <ul class='legend-labels'>\"\"\"\n",
    "    \n",
    "    # Loop Categories\n",
    "    for label, color, border_color in color_by_label:\n",
    "        body += f\"\"\"\n",
    "                <li><span style='background:{color};border: solid 2px {border_color};'></span>{label}</li>\"\"\"\n",
    "    body += \"\"\"\n",
    "            <li><span style=\"background:black;opacity:1; border:2px solid black; margin-left:5px; height:15px; width:15px; border-radius:50%; display:inline-block\"></span>DSFRS Station</li>\n",
    "            </ul>\n",
    "        </div>\n",
    "        <!--<div class='legend-source'>Source: <a href=\"#link to source\">Name of source</a></div>-->\n",
    "    </div>\n",
    "    \"\"\"   \n",
    "\n",
    "    # Add Body\n",
    "    body = bc.element.Element(body)\n",
    "    map_folium.get_root().html.add_child(body)\n",
    "    \n",
    "    return map_folium"
   ]
  },
  {
   "cell_type": "markdown",
   "metadata": {},
   "source": [
    "So we need to generate a choropleth for each week within the dataset. We will put our choropleth sript within a loop to automate creation of all the maps. At the same time each map is created. It is exported to html and then a .png is generated from the html and saved for later."
   ]
  },
  {
   "cell_type": "code",
   "execution_count": null,
   "metadata": {},
   "outputs": [],
   "source": [
    "for w in listofweeks:\n",
    "    # Build map \n",
    "    m = folium.Map(location=(50.779614, -3.42), zoom_start=9.1, zoomSnap=0.1, zoomDelta=0.5, tiles=None, zoom_control=False, control_scale=False, layer_name='map1')\n",
    "    folium.TileLayer('cartodbpositron',name='Greyscale').add_to(m)\n",
    "\n",
    "    # create a layer for stations\n",
    "    layer = folium.FeatureGroup(name='DSFRS Stations', show=True)\n",
    "    # add marker one by one for each station\n",
    "    for i in range(0,len(vec)):\n",
    "       folium.CircleMarker(location=[vec.iloc[i]['lon'], vec.iloc[i]['lat']], radius=2, stroke=False, fill=True, fill_color='Black', fill_opacity=1).add_to(layer)\n",
    "    layer.add_to(m)\n",
    "\n",
    "    # color scheme for boundary\n",
    "    style = {'color': '#a9a9a9', 'opacity': 0.5,  'fillColor': 'transparent'}  # 'lineColor': '#ffffbf' blue\n",
    "    folium.GeoJson(service_area, name='Service_Area', style_function = lambda x: style).add_to(m)\n",
    "\n",
    "    # Add format for legend\n",
    "    label = ['Service Area']\n",
    "    color = ['transparent']\n",
    "    border_color = ['dimgrey']\n",
    "    color_points = zip(label,color,border_color)\n",
    "    # Add Map Legend\n",
    "    m = modify_HeaderLegend(m)\n",
    "    m = add_CategoricalLegend(m, 'Map Legend', color_by_label=color_points)\n",
    "    \n",
    "    filtered_weekly = weekly[weekly['date'] == w]\n",
    "    folium.Choropleth(\n",
    "         geo_data=msoa_json,\n",
    "         name='choropleth',\n",
    "         data=filtered_weekly,\n",
    "         columns=['msoa11cd', 'newCasesBySpecimenDateRollingSum'],\n",
    "         key_on='feature.properties.msoa11cd',\n",
    "         fill_color='Spectral_r',\n",
    "         fill_opacity=0.7,\n",
    "         line_opacity=0,\n",
    "         nan_fill_opacity=0,\n",
    "         bins = [0,10,25,50,100,150,200,300],\n",
    "         legend_name='Weekly rolling sum of positive Covid-19 cases'\n",
    "     ).add_to(m)\n",
    "    # add marker and label for date to be shown\n",
    "    ww = 'w/e ' + w\n",
    "    folium.map.Marker(\n",
    "         [51.4, -4.5],\n",
    "         icon=DivIcon(\n",
    "         icon_size=(0,0),\n",
    "         icon_anchor=(0,0),\n",
    "         html=f\"\"\"<div style=\"color: black; font-size: 24pt; white-space: nowrap;\">{ww}</div>\"\"\"\n",
    "         )\n",
    "    ).add_to(m)\n",
    "    m\n",
    "    m.save(dir_path + '/images/positive_cases_' + str(w) + '.html')\n",
    "    tmpurl='file://{path}/{mapfile}'.format(path=dir_path + '\\\\images',mapfile='positive_cases_' + str(w) + '.html')\n",
    "    browser = webdriver.Chrome(ChromeDriverManager().install())\n",
    "    browser.get(tmpurl)\n",
    "    #Give the map tiles some time to load\n",
    "    time.sleep(6)\n",
    "    browser.save_screenshot(dir_path + '\\\\images\\\\' + 'positive_cases_' + str(w) + '.png')\n",
    "    browser.quit()\n",
    "    # Remove html files\n",
    "    #os.remove('dir_path + '\\\\images\\\\' + 'positive_cases_' + str(w) + '.html')"
   ]
  },
  {
   "cell_type": "markdown",
   "metadata": {},
   "source": [
    "Finally convert our png files to a gif"
   ]
  },
  {
   "cell_type": "code",
   "execution_count": null,
   "metadata": {},
   "outputs": [],
   "source": [
    "os.chdir(image_path)\n",
    "\n",
    "# Create Gif and remove each .png file\n",
    "images = list(glob.glob('*.png'))\n",
    "image_list = []\n",
    "for file_name in images:\n",
    "    image_list.append(imageio.imread(file_name))\n",
    "    #os.remove(file_name)\n",
    "imageio.mimwrite('SampleMap.gif', image_list, fps=2)"
   ]
  }
 ],
 "metadata": {
  "kernelspec": {
   "display_name": "Python 3.7.4 64-bit",
   "language": "python",
   "name": "python3"
  },
  "language_info": {
   "codemirror_mode": {
    "name": "ipython",
    "version": 3
   },
   "file_extension": ".py",
   "mimetype": "text/x-python",
   "name": "python",
   "nbconvert_exporter": "python",
   "pygments_lexer": "ipython3",
   "version": "3.7.4"
  }
 },
 "nbformat": 4,
 "nbformat_minor": 2
}
